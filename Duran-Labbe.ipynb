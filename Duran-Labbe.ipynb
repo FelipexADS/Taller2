{
 "cells": [
  {
   "cell_type": "markdown",
   "metadata": {
    "slideshow": {
     "slide_type": "slide"
    }
   },
   "source": [
    "# Intro al análisis de datos - ICC732\n",
    "## Taller 2"
   ]
  },
  {
   "cell_type": "markdown",
   "metadata": {},
   "source": [
    "### Instrucciones"
   ]
  },
  {
   "cell_type": "markdown",
   "metadata": {
    "jp-MarkdownHeadingCollapsed": true
   },
   "source": [
    "## **Equipos**\n",
    "- Trabaje en grupos de 3 integrantes.\n",
    "- No se aceptan grupos de 4 integrantes\n",
    "- Si no cumple este requisito contacte al profesor.\n",
    "\n",
    "**Evaluación**\n",
    "- Parte 1: 6 tareas -> 0-3 puntos cada una.\n",
    "- Parte 2: 1 tarea  -> 0-3 puntos cada una.\n",
    "- Parte 3: 4 tareas -> 0-3 puntos cada una.\n",
    "\n",
    "**Reglamento**\n",
    "- Preguntas similares entre grupos, reciben nota mínima.\n",
    "- Puede usar herramientas de asistencia para responder su taller, pero debe adaptar el código al contexto que este taller exige.\n",
    "- Marque con una **X** si herramientas del tipo chatGPT para responder este taller: () Sí, () No.\n",
    "- No se revisarán entregas enviadas por Discord o correo electrónico.\n",
    "\n",
    "**Disponibilidad del Taller**\n",
    "- Desde: Lunes 2 de Octubre, 16:50.\n",
    "- Hasta: Miércoles 4 de Octubre: 23:00.\n",
    "\n",
    "**Hint**\n",
    "- Documente métodos y clases\n",
    "\n",
    "**Formato de entrega**\n",
    "- Apellido1-Apellido2-Apellido3.ipynb (ejecutable)\n",
    "- Apellido1-Apellido2-Apellido3.html\n",
    "- Solo 1 integrante sube el taller al campus virtual.\n",
    "- Crear respositorio GitHub: **https://github.com/FelipexADS/Taller2.git**"
   ]
  },
  {
   "cell_type": "markdown",
   "metadata": {
    "jp-MarkdownHeadingCollapsed": true
   },
   "source": [
    "## Juego\n",
    "\n",
    "#### **Clases**\n",
    "- 1 clase denominada ``Dron``:\n",
    "    - representa un Dron en un juego de mesa.\n",
    "    - consta de dos parámetros que lo identifican: nombre y pisición.\n",
    "    - se inicializa en ``0,0`` con nombres ``Timon`` y ``Sid``\n",
    "\n",
    "- 1 clase denominada ``Tablero``:\n",
    "    - que representa un tablero de juego de mesa.\n",
    "    - tiene tamaño que se representa por: x e y.\n",
    "    - se inicializa en tamaño ``50,50``\n",
    "\n",
    "#### **Comportamiento**\n",
    "- El dron se mueve en 4 direcciones: arriba, abajo, izquierda, derecha\n",
    "- En el trablero, el dron puede lanzar bombas\n",
    "\n",
    "#### **Jugada**\n",
    "- Una juagada representa el juego en marcha.\n",
    "- Primero se mueven los drones en diferentes direcciones\n",
    "- Luego, cada dron lanza una bomba\n",
    "- Si la posición de la bomba lanzada por un dron coincide con la posicion del rival, entonces el dron gana."
   ]
  },
  {
   "cell_type": "markdown",
   "metadata": {},
   "source": [
    "#### 1 - Clase Dron\n",
    "\n",
    "- Cree la clase Dron\n",
    "- Implemente la clase.\n",
    "    - ``Dron``\n",
    "- Implemente los métodos\n",
    "    - ``mover_arriba``, ``mover_abajo``, ``mover_izquierda``, ``mover_arriba``, y  ``lanzar_bomba``."
   ]
  },
  {
   "cell_type": "code",
   "execution_count": 137,
   "metadata": {},
   "outputs": [],
   "source": [
    "# Su código acá\n",
    "class Dron():\n",
    "    # Se simula un dron para el juego\n",
    "    def __init__(self,nombre: str, posicion_x = 0, posicion_y = 0):\n",
    "        self.nombre = nombre\n",
    "        self.posicion_x = posicion_x\n",
    "        self.posicion_y = posicion_y\n",
    "\n",
    "    # Se simula el movimiento hacia arriba\n",
    "    def mover_arriba(self,mover_arriba_y=1):\n",
    "        assert self.posicion_y+1 >= 0 and self.posicion_y+1<=50, f'El Dron no se puede mover ya que se estaría saliendo del tablero (posicion actual: {self.posicion_y, self.posicion_x})'\n",
    "        self.posicion_y += mover_arriba_y\n",
    "        print(f'Posición actual ({self.posicion_x, self.posicion_y})')\n",
    "    # Se simula el movimiento hacia abajo    \n",
    "    def mover_abajo(self,mover_abajo_y=1):\n",
    "        assert self.posicion_y-1 >= 0 and self.posicion_y-1<=50, f'El Dron no se puede mover ya que se estaría saliendo del tablero (posicion actual: {self.posicion_y, self.posicion_x})'\n",
    "        self.posicion_y -= mover_abajo_y\n",
    "        print(f'Posición actual ({self.posicion_x, self.posicion_y})')\n",
    "    # Se simula el movimiento hacia derecha\n",
    "    def mover_derecha(self,mover_derecha_x=1):\n",
    "        assert self.posicion_x+1 >= 0 and self.posicion_y+1<=50, f'El Dron no se puede mover ya que se estaría saliendo del tablero (posicion actual: {self.posicion_y, self.posicion_x})'\n",
    "        self.posicion_x += mover_derecha_x\n",
    "        print(f'Posición actual ({self.posicion_x, self.posicion_y})')\n",
    "    # Se simula el movimiento hacia izquierda    \n",
    "    def mover_izquierda(self,mover_izquierda_x=1):\n",
    "        assert self.posicion_x-1 >= 0 and self.posicion_y-1<=50, f'El Dron no se puede mover ya que se estaría saliendo del tablero (posicion actual: {self.posicion_y, self.posicion_x})'\n",
    "        self.posicion_x -= mover_izquierda_x\n",
    "        print(f'Posición actual ({self.posicion_x, self.posicion_y})')\n",
    "    # Se simula el lanzamiento de una bomba\n",
    "    def lanzar_bomba(self,posicion_bomba_x=0,posicion_bomba_y=0):\n",
    "        self.posicion_bomba_x = posicion_bomba_x\n",
    "        self.posicion_bomba_y = posicion_bomba_y\n",
    "        print(f'lanzamiento de Bomba en ({self.posicion_bomba_x, self.posicion_bomba_y}) desde la posición  ({self.posicion_x, self.posicion_y})')"
   ]
  },
  {
   "cell_type": "markdown",
   "metadata": {},
   "source": [
    "#### 2 - Clase Tablero\n",
    "\n",
    "- Implemente la clase Tablero\n",
    "    - tiene tamaño que se representa por: x e y.\n",
    "    - se inicializa en tamaño ``50,50``"
   ]
  },
  {
   "cell_type": "code",
   "execution_count": 155,
   "metadata": {},
   "outputs": [],
   "source": [
    "class Tablero():\n",
    "    # Se simula el tablero para el juego\n",
    "    def __init__(self, x=50, y=50, partida_ganada = False):\n",
    "        # Se inicia con un tablero de 50x50\n",
    "        assert x >= 0 and x<=50, f'El valor de X = {x} tiene que estar entre 0 y 50 (Tamaño del tablero 50x50)'\n",
    "        assert y >= 0 and y<=50, f'El valor de Y = {y} tiene que estar entre 0 y 50 (Tamaño del tablero 50x50)'\n",
    "        assert partida_ganada != True, f'El juego ya ha terminado'\n",
    "        self.x = x\n",
    "        self.y = y \n",
    "        self.iterador = 0\n",
    "        self.partida_ganada = False # Condicion para que siga el juego\n",
    "    def tirarBombas(self,jugador,otro_jugador, posicion_bomba_x: int, posicion_bomba_y: int):\n",
    "        # Se pide que digite las coordenadas para lanzar bombas\n",
    "        assert posicion_bomba_x >= 0 and posicion_bomba_x<=50, f'El valor de X = ({posicion_bomba_x}) tiene que estar entre 0 y 50 (Tamaño del tablero 50x50)'\n",
    "        assert posicion_bomba_y >= 0 and posicion_bomba_y<=50, f'El valor de Y = ({posicion_bomba_y}) tiene que estar entre 0 y 50 (Tamaño del tablero 50x50)'\n",
    "        assert self.partida_ganada != True, f'El juego ya ha terminado'\n",
    "        jugador.lanzar_bomba(posicion_bomba_x,posicion_bomba_y)\n",
    "        if posicion_bomba_x==otro_jugador.posicion_x and posicion_bomba_y==otro_jugador.posicion_y:\n",
    "            print(f\"El jugador {jugador.nombre} explotó a su rival {otro_jugador.nombre} ¡HAS GANADO {jugador.nombre}!\") # Si el jugador explota al rival, se devuelve Verdadero y el juego acaba\n",
    "            self.partida_ganada = True\n",
    "        else:\n",
    "            print(\"La bomba no le ha dado a nada\")\n",
    "            # Si el jugador no ha explotado su rival, se vuelve a jugar\n",
    "    def juego(self, jugador_1, jugador_2,mov):\n",
    "        assert self.partida_ganada != True, f'El juego ya ha terminado'\n",
    "        assert mov >= 1 and mov <= 4, f'El movimiento debe estar entre 1 y 4'\n",
    "        self.mov = mov - 1\n",
    "        movimientos = ['mover_arriba', 'mover_abajo', 'mover_derecha', 'mover_izquierda']\n",
    "        if self.iterador % 2 == 0:\n",
    "            print(f'Turno de Jugador {jugador_1.nombre}')\n",
    "            movimiento = f'jugador_1.{movimientos[self.mov]}()'\n",
    "            exec(movimiento)\n",
    "            self.iterador += 1\n",
    "        else:\n",
    "            print(f'Turno de Jugador {jugador_2.nombre}')\n",
    "            movimiento = f'jugador_2.{movimientos[self.mov]}()'\n",
    "            exec(movimiento)\n",
    "            self.iterador += 1"
   ]
  },
  {
   "cell_type": "markdown",
   "metadata": {},
   "source": [
    "#### 3 - Jugada\n",
    "\n",
    "- Implemente una jugada (con o sin clase)\n",
    "- Mueva los drones en cierta dirección.\n",
    "- Debe atacar lanzando bombas.\n",
    "- Uno de los drones debe ganar y hacer un anuncio al respecto."
   ]
  },
  {
   "cell_type": "code",
   "execution_count": 156,
   "metadata": {},
   "outputs": [],
   "source": [
    "def iniciar_juego():\n",
    "    Timon = Dron(nombre = 'Timon')\n",
    "    Sid = Dron(nombre = 'Sid')\n",
    "    tablero = Tablero()\n",
    "    return Timon, Sid, tablero "
   ]
  },
  {
   "cell_type": "markdown",
   "metadata": {},
   "source": [
    "### Instrucciones\n",
    "• Se debe poner siempre el comando 'tablero.juego(Timon, Sid, mov=x)' donde x es el movimiento:  \n",
    "x=1 → mover_arriba  \n",
    "x=2 → mover_abajo  \n",
    "x=3 → mover_derecha  \n",
    "x=4 → mover_izquierda  \n",
    "  \n",
    "• Luego, se imprime un texto que dice 'Turno de Jugador', una vez se movió el dron, este tiene que atacar con el comando  \n",
    "tablero.tirarBombas(jugador='Turno de Jugador', otro_jugador= 'El otro jugador', posicion_bomba_x = int, posicion_bomba_y= int)\n",
    "\n",
    "• De esta forma cada jugador en primero instancia tiene que moverse, luego puede lanzar una bomba luego le toca al siguiente jugador,  \n",
    "de la siguiente manera\n",
    "```\n",
    "Jugador 1:    \n",
    "        → tablero.juego(Timon, Sid, mov=1)  \n",
    "        → 'Turno de jugador Timon'\n",
    "        → tablero.tirarBombas(Timon, Sid, posicion_bomba_x=1, posicion_bomba_y=1)\n",
    "Jugador 2:    \n",
    "        → tablero.juego(Timon, Sid, mov=1)  \n",
    "        → 'Turno de jugador Sid'\n",
    "        → tablero.tirarBombas(Sid, Timon, posicion_bomba_x=1, posicion_bomba_y=1)  \n",
    "```\n",
    "*IMPORTANTE!* En el comando tirarBombas() en el primero argumento debe ir el turno del jugador al que corresponde el turno"
   ]
  },
  {
   "cell_type": "code",
   "execution_count": 157,
   "metadata": {},
   "outputs": [
    {
     "name": "stdout",
     "output_type": "stream",
     "text": [
      "Turno de Jugador Timon\n",
      "Posición actual ((0, 1))\n",
      "lanzamiento de Bomba en ((1, 1)) desde la posición  ((0, 1))\n",
      "La bomba no le ha dado a nada\n"
     ]
    }
   ],
   "source": [
    "# Ejemplo de Juego\n",
    "Timon, Sid, tablero = iniciar_juego()\n",
    "tablero.juego(Timon, Sid, mov=1)\n",
    "tablero.tirarBombas(Timon, Sid, posicion_bomba_x=1, posicion_bomba_y=1)"
   ]
  },
  {
   "cell_type": "code",
   "execution_count": 158,
   "metadata": {},
   "outputs": [
    {
     "name": "stdout",
     "output_type": "stream",
     "text": [
      "Turno de Jugador Sid\n",
      "Posición actual ((0, 1))\n",
      "lanzamiento de Bomba en ((0, 2)) desde la posición  ((0, 1))\n",
      "La bomba no le ha dado a nada\n",
      "Turno de Jugador Timon\n",
      "Posición actual ((1, 1))\n",
      "lanzamiento de Bomba en ((0, 1)) desde la posición  ((1, 1))\n",
      "El jugador Timon explotó a su rival Sid ¡HAS GANADO Timon!\n"
     ]
    }
   ],
   "source": [
    "#Ejemplo de Juego cuando alguien gana\n",
    "tablero.juego(Timon, Sid, mov=1)\n",
    "tablero.tirarBombas(Sid, Timon, posicion_bomba_x=0, posicion_bomba_y=2)\n",
    "tablero.juego(Timon,Sid, mov=3)\n",
    "tablero.tirarBombas(Timon, Sid, posicion_bomba_x=0, posicion_bomba_y=1)"
   ]
  },
  {
   "cell_type": "code",
   "execution_count": 159,
   "metadata": {},
   "outputs": [
    {
     "ename": "AssertionError",
     "evalue": "El juego ya ha terminado",
     "output_type": "error",
     "traceback": [
      "\u001b[1;31m---------------------------------------------------------------------------\u001b[0m",
      "\u001b[1;31mAssertionError\u001b[0m                            Traceback (most recent call last)",
      "\u001b[1;32me:\\U\\2023 - 2\\Intro AD\\taller-2 (1).ipynb Cell 14\u001b[0m line \u001b[0;36m2\n\u001b[0;32m      <a href='vscode-notebook-cell:/e%3A/U/2023%20-%202/Intro%20AD/taller-2%20%281%29.ipynb#X25sZmlsZQ%3D%3D?line=0'>1</a>\u001b[0m \u001b[39m#En caso de querer seguir jugando ocurre lo siguiente\u001b[39;00m\n\u001b[1;32m----> <a href='vscode-notebook-cell:/e%3A/U/2023%20-%202/Intro%20AD/taller-2%20%281%29.ipynb#X25sZmlsZQ%3D%3D?line=1'>2</a>\u001b[0m tablero\u001b[39m.\u001b[39;49mjuego(Timon, Sid, mov\u001b[39m=\u001b[39;49m\u001b[39m2\u001b[39;49m)\n\u001b[0;32m      <a href='vscode-notebook-cell:/e%3A/U/2023%20-%202/Intro%20AD/taller-2%20%281%29.ipynb#X25sZmlsZQ%3D%3D?line=2'>3</a>\u001b[0m \u001b[39m#Nos entrega un error diciéndonos que el juego ya ha terminado\u001b[39;00m\n",
      "\u001b[1;32me:\\U\\2023 - 2\\Intro AD\\taller-2 (1).ipynb Cell 14\u001b[0m line \u001b[0;36m2\n\u001b[0;32m     <a href='vscode-notebook-cell:/e%3A/U/2023%20-%202/Intro%20AD/taller-2%20%281%29.ipynb#X25sZmlsZQ%3D%3D?line=23'>24</a>\u001b[0m \u001b[39mdef\u001b[39;00m \u001b[39mjuego\u001b[39m(\u001b[39mself\u001b[39m, jugador_1, jugador_2,mov):\n\u001b[1;32m---> <a href='vscode-notebook-cell:/e%3A/U/2023%20-%202/Intro%20AD/taller-2%20%281%29.ipynb#X25sZmlsZQ%3D%3D?line=24'>25</a>\u001b[0m     \u001b[39massert\u001b[39;00m \u001b[39mself\u001b[39m\u001b[39m.\u001b[39mpartida_ganada \u001b[39m!=\u001b[39m \u001b[39mTrue\u001b[39;00m, \u001b[39mf\u001b[39m\u001b[39m'\u001b[39m\u001b[39mEl juego ya ha terminado\u001b[39m\u001b[39m'\u001b[39m\n\u001b[0;32m     <a href='vscode-notebook-cell:/e%3A/U/2023%20-%202/Intro%20AD/taller-2%20%281%29.ipynb#X25sZmlsZQ%3D%3D?line=25'>26</a>\u001b[0m     \u001b[39massert\u001b[39;00m mov \u001b[39m>\u001b[39m\u001b[39m=\u001b[39m \u001b[39m1\u001b[39m \u001b[39mand\u001b[39;00m mov \u001b[39m<\u001b[39m\u001b[39m=\u001b[39m \u001b[39m4\u001b[39m, \u001b[39mf\u001b[39m\u001b[39m'\u001b[39m\u001b[39mEl movimiento debe estar entre 1 y 4\u001b[39m\u001b[39m'\u001b[39m\n\u001b[0;32m     <a href='vscode-notebook-cell:/e%3A/U/2023%20-%202/Intro%20AD/taller-2%20%281%29.ipynb#X25sZmlsZQ%3D%3D?line=26'>27</a>\u001b[0m     \u001b[39mself\u001b[39m\u001b[39m.\u001b[39mmov \u001b[39m=\u001b[39m mov \u001b[39m-\u001b[39m \u001b[39m1\u001b[39m\n",
      "\u001b[1;31mAssertionError\u001b[0m: El juego ya ha terminado"
     ]
    }
   ],
   "source": [
    "#En caso de querer seguir jugando ocurre lo siguiente\n",
    "tablero.juego(Timon, Sid, mov=2)\n",
    "#Nos entrega un error diciéndonos que el juego ya ha terminado"
   ]
  },
  {
   "cell_type": "code",
   "execution_count": 160,
   "metadata": {},
   "outputs": [
    {
     "ename": "AssertionError",
     "evalue": "El movimiento debe estar entre 1 y 4",
     "output_type": "error",
     "traceback": [
      "\u001b[1;31m---------------------------------------------------------------------------\u001b[0m",
      "\u001b[1;31mAssertionError\u001b[0m                            Traceback (most recent call last)",
      "\u001b[1;32me:\\U\\2023 - 2\\Intro AD\\taller-2 (1).ipynb Cell 15\u001b[0m line \u001b[0;36m3\n\u001b[0;32m      <a href='vscode-notebook-cell:/e%3A/U/2023%20-%202/Intro%20AD/taller-2%20%281%29.ipynb#X26sZmlsZQ%3D%3D?line=0'>1</a>\u001b[0m \u001b[39m# Ahora intentamos movernos a un posición fuera de las reglas\u001b[39;00m\n\u001b[0;32m      <a href='vscode-notebook-cell:/e%3A/U/2023%20-%202/Intro%20AD/taller-2%20%281%29.ipynb#X26sZmlsZQ%3D%3D?line=1'>2</a>\u001b[0m Timon, Sid, tablero \u001b[39m=\u001b[39m iniciar_juego()\n\u001b[1;32m----> <a href='vscode-notebook-cell:/e%3A/U/2023%20-%202/Intro%20AD/taller-2%20%281%29.ipynb#X26sZmlsZQ%3D%3D?line=2'>3</a>\u001b[0m tablero\u001b[39m.\u001b[39;49mjuego(Timon, Sid, mov\u001b[39m=\u001b[39;49m\u001b[39m100\u001b[39;49m)\n\u001b[0;32m      <a href='vscode-notebook-cell:/e%3A/U/2023%20-%202/Intro%20AD/taller-2%20%281%29.ipynb#X26sZmlsZQ%3D%3D?line=3'>4</a>\u001b[0m \u001b[39m# Nos indica que el movimiento debe estar entre 1 y 4\u001b[39;00m\n",
      "\u001b[1;32me:\\U\\2023 - 2\\Intro AD\\taller-2 (1).ipynb Cell 15\u001b[0m line \u001b[0;36m2\n\u001b[0;32m     <a href='vscode-notebook-cell:/e%3A/U/2023%20-%202/Intro%20AD/taller-2%20%281%29.ipynb#X26sZmlsZQ%3D%3D?line=23'>24</a>\u001b[0m \u001b[39mdef\u001b[39;00m \u001b[39mjuego\u001b[39m(\u001b[39mself\u001b[39m, jugador_1, jugador_2,mov):\n\u001b[0;32m     <a href='vscode-notebook-cell:/e%3A/U/2023%20-%202/Intro%20AD/taller-2%20%281%29.ipynb#X26sZmlsZQ%3D%3D?line=24'>25</a>\u001b[0m     \u001b[39massert\u001b[39;00m \u001b[39mself\u001b[39m\u001b[39m.\u001b[39mpartida_ganada \u001b[39m!=\u001b[39m \u001b[39mTrue\u001b[39;00m, \u001b[39mf\u001b[39m\u001b[39m'\u001b[39m\u001b[39mEl juego ya ha terminado\u001b[39m\u001b[39m'\u001b[39m\n\u001b[1;32m---> <a href='vscode-notebook-cell:/e%3A/U/2023%20-%202/Intro%20AD/taller-2%20%281%29.ipynb#X26sZmlsZQ%3D%3D?line=25'>26</a>\u001b[0m     \u001b[39massert\u001b[39;00m mov \u001b[39m>\u001b[39m\u001b[39m=\u001b[39m \u001b[39m1\u001b[39m \u001b[39mand\u001b[39;00m mov \u001b[39m<\u001b[39m\u001b[39m=\u001b[39m \u001b[39m4\u001b[39m, \u001b[39mf\u001b[39m\u001b[39m'\u001b[39m\u001b[39mEl movimiento debe estar entre 1 y 4\u001b[39m\u001b[39m'\u001b[39m\n\u001b[0;32m     <a href='vscode-notebook-cell:/e%3A/U/2023%20-%202/Intro%20AD/taller-2%20%281%29.ipynb#X26sZmlsZQ%3D%3D?line=26'>27</a>\u001b[0m     \u001b[39mself\u001b[39m\u001b[39m.\u001b[39mmov \u001b[39m=\u001b[39m mov \u001b[39m-\u001b[39m \u001b[39m1\u001b[39m\n\u001b[0;32m     <a href='vscode-notebook-cell:/e%3A/U/2023%20-%202/Intro%20AD/taller-2%20%281%29.ipynb#X26sZmlsZQ%3D%3D?line=27'>28</a>\u001b[0m     movimientos \u001b[39m=\u001b[39m [\u001b[39m'\u001b[39m\u001b[39mmover_arriba\u001b[39m\u001b[39m'\u001b[39m, \u001b[39m'\u001b[39m\u001b[39mmover_abajo\u001b[39m\u001b[39m'\u001b[39m, \u001b[39m'\u001b[39m\u001b[39mmover_derecha\u001b[39m\u001b[39m'\u001b[39m, \u001b[39m'\u001b[39m\u001b[39mmover_izquierda\u001b[39m\u001b[39m'\u001b[39m]\n",
      "\u001b[1;31mAssertionError\u001b[0m: El movimiento debe estar entre 1 y 4"
     ]
    }
   ],
   "source": [
    "# Ahora intentamos movernos a un posición fuera de las reglas\n",
    "Timon, Sid, tablero = iniciar_juego()\n",
    "tablero.juego(Timon, Sid, mov=100)\n",
    "# Nos indica que el movimiento debe estar entre 1 y 4"
   ]
  },
  {
   "cell_type": "code",
   "execution_count": 161,
   "metadata": {},
   "outputs": [
    {
     "name": "stdout",
     "output_type": "stream",
     "text": [
      "Turno de Jugador Timon\n",
      "Posición actual ((0, 1))\n"
     ]
    },
    {
     "ename": "AssertionError",
     "evalue": "El valor de X = (101) tiene que estar entre 0 y 50 (Tamaño del tablero 50x50)",
     "output_type": "error",
     "traceback": [
      "\u001b[1;31m---------------------------------------------------------------------------\u001b[0m",
      "\u001b[1;31mAssertionError\u001b[0m                            Traceback (most recent call last)",
      "\u001b[1;32me:\\U\\2023 - 2\\Intro AD\\taller-2 (1).ipynb Cell 16\u001b[0m line \u001b[0;36m3\n\u001b[0;32m      <a href='vscode-notebook-cell:/e%3A/U/2023%20-%202/Intro%20AD/taller-2%20%281%29.ipynb#X30sZmlsZQ%3D%3D?line=0'>1</a>\u001b[0m \u001b[39m#Ahora intentamos lanzar una bomba fuera del tablero \u001b[39;00m\n\u001b[0;32m      <a href='vscode-notebook-cell:/e%3A/U/2023%20-%202/Intro%20AD/taller-2%20%281%29.ipynb#X30sZmlsZQ%3D%3D?line=1'>2</a>\u001b[0m tablero\u001b[39m.\u001b[39mjuego(Timon, Sid, mov\u001b[39m=\u001b[39m\u001b[39m1\u001b[39m)\n\u001b[1;32m----> <a href='vscode-notebook-cell:/e%3A/U/2023%20-%202/Intro%20AD/taller-2%20%281%29.ipynb#X30sZmlsZQ%3D%3D?line=2'>3</a>\u001b[0m tablero\u001b[39m.\u001b[39;49mtirarBombas(Timon, Sid, posicion_bomba_x\u001b[39m=\u001b[39;49m\u001b[39m101\u001b[39;49m, posicion_bomba_y\u001b[39m=\u001b[39;49m\u001b[39m0\u001b[39;49m)\n\u001b[0;32m      <a href='vscode-notebook-cell:/e%3A/U/2023%20-%202/Intro%20AD/taller-2%20%281%29.ipynb#X30sZmlsZQ%3D%3D?line=3'>4</a>\u001b[0m \u001b[39m#Nos indica que el valor de X tiene que estar dentro del tamaño del tablero\u001b[39;00m\n",
      "\u001b[1;32me:\\U\\2023 - 2\\Intro AD\\taller-2 (1).ipynb Cell 16\u001b[0m line \u001b[0;36m1\n\u001b[0;32m     <a href='vscode-notebook-cell:/e%3A/U/2023%20-%202/Intro%20AD/taller-2%20%281%29.ipynb#X30sZmlsZQ%3D%3D?line=11'>12</a>\u001b[0m \u001b[39mdef\u001b[39;00m \u001b[39mtirarBombas\u001b[39m(\u001b[39mself\u001b[39m,jugador,otro_jugador, posicion_bomba_x: \u001b[39mint\u001b[39m, posicion_bomba_y: \u001b[39mint\u001b[39m):\n\u001b[0;32m     <a href='vscode-notebook-cell:/e%3A/U/2023%20-%202/Intro%20AD/taller-2%20%281%29.ipynb#X30sZmlsZQ%3D%3D?line=12'>13</a>\u001b[0m     \u001b[39m# Se pide que digite las coordenadas para lanzar bombas\u001b[39;00m\n\u001b[1;32m---> <a href='vscode-notebook-cell:/e%3A/U/2023%20-%202/Intro%20AD/taller-2%20%281%29.ipynb#X30sZmlsZQ%3D%3D?line=13'>14</a>\u001b[0m     \u001b[39massert\u001b[39;00m posicion_bomba_x \u001b[39m>\u001b[39m\u001b[39m=\u001b[39m \u001b[39m0\u001b[39m \u001b[39mand\u001b[39;00m posicion_bomba_x\u001b[39m<\u001b[39m\u001b[39m=\u001b[39m\u001b[39m50\u001b[39m, \u001b[39mf\u001b[39m\u001b[39m'\u001b[39m\u001b[39mEl valor de X = (\u001b[39m\u001b[39m{\u001b[39;00mposicion_bomba_x\u001b[39m}\u001b[39;00m\u001b[39m) tiene que estar entre 0 y 50 (Tamaño del tablero 50x50)\u001b[39m\u001b[39m'\u001b[39m\n\u001b[0;32m     <a href='vscode-notebook-cell:/e%3A/U/2023%20-%202/Intro%20AD/taller-2%20%281%29.ipynb#X30sZmlsZQ%3D%3D?line=14'>15</a>\u001b[0m     \u001b[39massert\u001b[39;00m posicion_bomba_y \u001b[39m>\u001b[39m\u001b[39m=\u001b[39m \u001b[39m0\u001b[39m \u001b[39mand\u001b[39;00m posicion_bomba_y\u001b[39m<\u001b[39m\u001b[39m=\u001b[39m\u001b[39m50\u001b[39m, \u001b[39mf\u001b[39m\u001b[39m'\u001b[39m\u001b[39mEl valor de Y = (\u001b[39m\u001b[39m{\u001b[39;00mposicion_bomba_y\u001b[39m}\u001b[39;00m\u001b[39m) tiene que estar entre 0 y 50 (Tamaño del tablero 50x50)\u001b[39m\u001b[39m'\u001b[39m\n\u001b[0;32m     <a href='vscode-notebook-cell:/e%3A/U/2023%20-%202/Intro%20AD/taller-2%20%281%29.ipynb#X30sZmlsZQ%3D%3D?line=15'>16</a>\u001b[0m     \u001b[39massert\u001b[39;00m \u001b[39mself\u001b[39m\u001b[39m.\u001b[39mpartida_ganada \u001b[39m!=\u001b[39m \u001b[39mTrue\u001b[39;00m, \u001b[39mf\u001b[39m\u001b[39m'\u001b[39m\u001b[39mEl juego ya ha terminado\u001b[39m\u001b[39m'\u001b[39m\n",
      "\u001b[1;31mAssertionError\u001b[0m: El valor de X = (101) tiene que estar entre 0 y 50 (Tamaño del tablero 50x50)"
     ]
    }
   ],
   "source": [
    "#Ahora intentamos lanzar una bomba fuera del tablero \n",
    "tablero.juego(Timon, Sid, mov=1)\n",
    "tablero.tirarBombas(Timon, Sid, posicion_bomba_x=101, posicion_bomba_y=0)\n",
    "#Nos indica que el valor de X tiene que estar dentro del tamaño del tablero"
   ]
  },
  {
   "cell_type": "code",
   "execution_count": 162,
   "metadata": {},
   "outputs": [
    {
     "name": "stdout",
     "output_type": "stream",
     "text": [
      "Turno de Jugador Timon\n"
     ]
    },
    {
     "ename": "AssertionError",
     "evalue": "El Dron no se puede mover ya que se estaría saliendo del tablero (posicion actual: (0, 0))",
     "output_type": "error",
     "traceback": [
      "\u001b[1;31m---------------------------------------------------------------------------\u001b[0m",
      "\u001b[1;31mAssertionError\u001b[0m                            Traceback (most recent call last)",
      "\u001b[1;32me:\\U\\2023 - 2\\Intro AD\\taller-2 (1).ipynb Cell 17\u001b[0m line \u001b[0;36m3\n\u001b[0;32m      <a href='vscode-notebook-cell:/e%3A/U/2023%20-%202/Intro%20AD/taller-2%20%281%29.ipynb#X31sZmlsZQ%3D%3D?line=0'>1</a>\u001b[0m \u001b[39m# Ejemplo donde el dron se puede salir del tablero\u001b[39;00m\n\u001b[0;32m      <a href='vscode-notebook-cell:/e%3A/U/2023%20-%202/Intro%20AD/taller-2%20%281%29.ipynb#X31sZmlsZQ%3D%3D?line=1'>2</a>\u001b[0m Timon, Sid, tablero \u001b[39m=\u001b[39m iniciar_juego()\n\u001b[1;32m----> <a href='vscode-notebook-cell:/e%3A/U/2023%20-%202/Intro%20AD/taller-2%20%281%29.ipynb#X31sZmlsZQ%3D%3D?line=2'>3</a>\u001b[0m tablero\u001b[39m.\u001b[39;49mjuego(Timon, Sid, mov\u001b[39m=\u001b[39;49m\u001b[39m2\u001b[39;49m)\n",
      "\u001b[1;32me:\\U\\2023 - 2\\Intro AD\\taller-2 (1).ipynb Cell 17\u001b[0m line \u001b[0;36m3\n\u001b[0;32m     <a href='vscode-notebook-cell:/e%3A/U/2023%20-%202/Intro%20AD/taller-2%20%281%29.ipynb#X31sZmlsZQ%3D%3D?line=29'>30</a>\u001b[0m     \u001b[39mprint\u001b[39m(\u001b[39mf\u001b[39m\u001b[39m'\u001b[39m\u001b[39mTurno de Jugador \u001b[39m\u001b[39m{\u001b[39;00mjugador_1\u001b[39m.\u001b[39mnombre\u001b[39m}\u001b[39;00m\u001b[39m'\u001b[39m)\n\u001b[0;32m     <a href='vscode-notebook-cell:/e%3A/U/2023%20-%202/Intro%20AD/taller-2%20%281%29.ipynb#X31sZmlsZQ%3D%3D?line=30'>31</a>\u001b[0m     movimiento \u001b[39m=\u001b[39m \u001b[39mf\u001b[39m\u001b[39m'\u001b[39m\u001b[39mjugador_1.\u001b[39m\u001b[39m{\u001b[39;00mmovimientos[\u001b[39mself\u001b[39m\u001b[39m.\u001b[39mmov]\u001b[39m}\u001b[39;00m\u001b[39m()\u001b[39m\u001b[39m'\u001b[39m\n\u001b[1;32m---> <a href='vscode-notebook-cell:/e%3A/U/2023%20-%202/Intro%20AD/taller-2%20%281%29.ipynb#X31sZmlsZQ%3D%3D?line=31'>32</a>\u001b[0m     exec(movimiento)\n\u001b[0;32m     <a href='vscode-notebook-cell:/e%3A/U/2023%20-%202/Intro%20AD/taller-2%20%281%29.ipynb#X31sZmlsZQ%3D%3D?line=32'>33</a>\u001b[0m     \u001b[39mself\u001b[39m\u001b[39m.\u001b[39miterador \u001b[39m+\u001b[39m\u001b[39m=\u001b[39m \u001b[39m1\u001b[39m\n\u001b[0;32m     <a href='vscode-notebook-cell:/e%3A/U/2023%20-%202/Intro%20AD/taller-2%20%281%29.ipynb#X31sZmlsZQ%3D%3D?line=33'>34</a>\u001b[0m \u001b[39melse\u001b[39;00m:\n",
      "File \u001b[1;32m<string>:1\u001b[0m\n",
      "\u001b[1;32me:\\U\\2023 - 2\\Intro AD\\taller-2 (1).ipynb Cell 17\u001b[0m line \u001b[0;36m1\n\u001b[0;32m     <a href='vscode-notebook-cell:/e%3A/U/2023%20-%202/Intro%20AD/taller-2%20%281%29.ipynb#X31sZmlsZQ%3D%3D?line=14'>15</a>\u001b[0m \u001b[39mdef\u001b[39;00m \u001b[39mmover_abajo\u001b[39m(\u001b[39mself\u001b[39m,mover_abajo_y\u001b[39m=\u001b[39m\u001b[39m1\u001b[39m):\n\u001b[1;32m---> <a href='vscode-notebook-cell:/e%3A/U/2023%20-%202/Intro%20AD/taller-2%20%281%29.ipynb#X31sZmlsZQ%3D%3D?line=15'>16</a>\u001b[0m     \u001b[39massert\u001b[39;00m \u001b[39mself\u001b[39m\u001b[39m.\u001b[39mposicion_y\u001b[39m-\u001b[39m\u001b[39m1\u001b[39m \u001b[39m>\u001b[39m\u001b[39m=\u001b[39m \u001b[39m0\u001b[39m \u001b[39mand\u001b[39;00m \u001b[39mself\u001b[39m\u001b[39m.\u001b[39mposicion_y\u001b[39m-\u001b[39m\u001b[39m1\u001b[39m\u001b[39m<\u001b[39m\u001b[39m=\u001b[39m\u001b[39m50\u001b[39m, \u001b[39mf\u001b[39m\u001b[39m'\u001b[39m\u001b[39mEl Dron no se puede mover ya que se estaría saliendo del tablero (posicion actual: \u001b[39m\u001b[39m{\u001b[39;00m\u001b[39mself\u001b[39m\u001b[39m.\u001b[39mposicion_y, \u001b[39mself\u001b[39m\u001b[39m.\u001b[39mposicion_x\u001b[39m}\u001b[39;00m\u001b[39m)\u001b[39m\u001b[39m'\u001b[39m\n\u001b[0;32m     <a href='vscode-notebook-cell:/e%3A/U/2023%20-%202/Intro%20AD/taller-2%20%281%29.ipynb#X31sZmlsZQ%3D%3D?line=16'>17</a>\u001b[0m     \u001b[39mself\u001b[39m\u001b[39m.\u001b[39mposicion_y \u001b[39m-\u001b[39m\u001b[39m=\u001b[39m mover_abajo_y\n\u001b[0;32m     <a href='vscode-notebook-cell:/e%3A/U/2023%20-%202/Intro%20AD/taller-2%20%281%29.ipynb#X31sZmlsZQ%3D%3D?line=17'>18</a>\u001b[0m     \u001b[39mprint\u001b[39m(\u001b[39mf\u001b[39m\u001b[39m'\u001b[39m\u001b[39mPosición actual (\u001b[39m\u001b[39m{\u001b[39;00m\u001b[39mself\u001b[39m\u001b[39m.\u001b[39mposicion_x, \u001b[39mself\u001b[39m\u001b[39m.\u001b[39mposicion_y\u001b[39m}\u001b[39;00m\u001b[39m)\u001b[39m\u001b[39m'\u001b[39m)\n",
      "\u001b[1;31mAssertionError\u001b[0m: El Dron no se puede mover ya que se estaría saliendo del tablero (posicion actual: (0, 0))"
     ]
    }
   ],
   "source": [
    "# Ejemplo donde el dron se puede salir del tablero\n",
    "Timon, Sid, tablero = iniciar_juego()\n",
    "tablero.juego(Timon, Sid, mov=2)"
   ]
  }
 ],
 "metadata": {
  "kernelspec": {
   "display_name": "Python 3 (ipykernel)",
   "language": "python",
   "name": "python3"
  },
  "language_info": {
   "codemirror_mode": {
    "name": "ipython",
    "version": 3
   },
   "file_extension": ".py",
   "mimetype": "text/x-python",
   "name": "python",
   "nbconvert_exporter": "python",
   "pygments_lexer": "ipython3",
   "version": "3.8.17"
  }
 },
 "nbformat": 4,
 "nbformat_minor": 4
}
